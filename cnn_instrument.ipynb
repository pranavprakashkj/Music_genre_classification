{
 "cells": [
  {
   "cell_type": "code",
   "execution_count": 2,
   "metadata": {
    "scrolled": true
   },
   "outputs": [],
   "source": [
    "import numpy as np\n",
    "import librosa,librosa.display\n",
    "import matplotlib.pyplot as plt\n",
    "import os\n",
    "import math\n",
    "import json\n",
    "from sklearn.model_selection import train_test_split\n",
    "import random\n",
    "from keras.models import Sequential\n",
    "from keras.layers import GlobalAveragePooling2D, Lambda, Conv2D, MaxPooling2D, Dropout, Dense, Flatten, Activation\n",
    "import tensorflow.keras as keras\n",
    "import keras_tuner as kt"
   ]
  },
  {
   "cell_type": "code",
   "execution_count": 3,
   "metadata": {},
   "outputs": [],
   "source": [
    "def plot_history(history):\n",
    "    fig,axs = plt.subplots(2)\n",
    "    \n",
    "    #create accuracy subplot\n",
    "    axs[0].plot(history.history[\"accuracy\"],label=\"train accuracy\")\n",
    "    axs[0].plot(history.history[\"val_accuracy\"],label=\"test accuracy\")\n",
    "    axs[0].set_ylabel(\"Accuracy\")\n",
    "    axs[0].set_title(\"Accuracy eval\")\n",
    "    axs[0].legend(loc=\"lower right\")\n",
    "    \n",
    "    #create error subplot\n",
    "    axs[1].plot(history.history[\"loss\"],label=\"train error\")\n",
    "    axs[1].plot(history.history[\"val_loss\"],label=\"test error\")\n",
    "    axs[1].set_ylabel(\"Error\")\n",
    "    axs[1].set_xlabel(\"Epoch\")\n",
    "    axs[1].set_title(\"Error eval\")\n",
    "    axs[1].legend(loc=\"upper right\")\n",
    "    \n",
    "    plt.show()"
   ]
  },
  {
   "cell_type": "code",
   "execution_count": 4,
   "metadata": {},
   "outputs": [],
   "source": [
    "#path to json\n",
    "DATA_PATH=\"C:/Users/adithi/Downloads/final_project-main/DATA_10.json\""
   ]
  },
  {
   "cell_type": "code",
   "execution_count": 5,
   "metadata": {},
   "outputs": [],
   "source": [
    "def load_data(data_path):\n",
    "    \n",
    "    with open(data_path,\"r\") as f:\n",
    "        data=json.load(f)\n",
    "        \n",
    "    #convert list to nympy array\n",
    "    X = np.array(data[\"mfcc\"])\n",
    "    y = np.array(data[\"labels\"])\n",
    "    \n",
    "    print(\"data successfully loaded\")\n",
    "    \n",
    "    return X,y"
   ]
  },
  {
   "cell_type": "code",
   "execution_count": 6,
   "metadata": {},
   "outputs": [
    {
     "name": "stdout",
     "output_type": "stream",
     "text": [
      "data successfully loaded\n"
     ]
    }
   ],
   "source": [
    "#load data\n",
    "X,y=load_data(DATA_PATH)"
   ]
  },
  {
   "cell_type": "code",
   "execution_count": 7,
   "metadata": {},
   "outputs": [
    {
     "data": {
      "text/plain": [
       "(6705, 130, 13)"
      ]
     },
     "execution_count": 7,
     "metadata": {},
     "output_type": "execute_result"
    }
   ],
   "source": [
    "X.shape"
   ]
  },
  {
   "cell_type": "code",
   "execution_count": 12,
   "metadata": {},
   "outputs": [],
   "source": [
    "# create train, validation and test split\n",
    "X_train, X_test, y_train, y_test = train_test_split(X, y, test_size=0.25)"
   ]
  },
  {
   "cell_type": "code",
   "execution_count": 13,
   "metadata": {},
   "outputs": [
    {
     "data": {
      "text/plain": [
       "(5028, 130, 13)"
      ]
     },
     "execution_count": 13,
     "metadata": {},
     "output_type": "execute_result"
    }
   ],
   "source": [
    "X_train.shape"
   ]
  },
  {
   "cell_type": "code",
   "execution_count": 14,
   "metadata": {},
   "outputs": [],
   "source": [
    "nsamples, nx, ny = X_train.shape\n",
    "d2_X_train = X_train.reshape((nsamples,nx*ny))\n",
    "\n",
    "msamples, mx, my = X_test.shape\n",
    "d2_X_test = X_test.reshape((msamples,mx*my))"
   ]
  },
  {
   "cell_type": "code",
   "execution_count": 15,
   "metadata": {},
   "outputs": [],
   "source": [
    "input_shape=(X_train.shape[1],X_train.shape[2],1)"
   ]
  },
  {
   "cell_type": "markdown",
   "metadata": {},
   "source": [
    "# Avoid overfitting"
   ]
  },
  {
   "cell_type": "code",
   "execution_count": 16,
   "metadata": {},
   "outputs": [],
   "source": [
    "#build network topology\n",
    "model_regulrized = keras.Sequential([\n",
    "    \n",
    "    #input layer\n",
    "    keras.layers.Flatten(input_shape=(X.shape[1],X.shape[2])),\n",
    "    \n",
    "    #1st dense layer\n",
    "    keras.layers.Dense(512,activation ='relu',kernel_regularizer= keras.regularizers.l2(0.001)),\n",
    "    keras.layers.Dropout(0.5), #power off 30%\n",
    "    \n",
    "    #2nd dense layer\n",
    "    keras.layers.Dense(256,activation ='relu',kernel_regularizer= keras.regularizers.l2(0.001)),\n",
    "    keras.layers.Dropout(0.5),\n",
    "    \n",
    "    #3rd dense layer\n",
    "    keras.layers.Dense(64,activation ='relu',kernel_regularizer= keras.regularizers.l2(0.001)),\n",
    "    keras.layers.Dropout(0.5),\n",
    "    \n",
    "    #output layer\n",
    "    keras.layers.Dense(11,activation = 'softmax') #10 genres\n",
    "    \n",
    "])"
   ]
  },
  {
   "cell_type": "code",
   "execution_count": 17,
   "metadata": {},
   "outputs": [],
   "source": [
    "#compile mode\n",
    "optimizer = keras.optimizers.Adam(learning_rate=0.0001)\n",
    "model_regulrized.compile(optimizer=optimizer,\n",
    "             loss='sparse_categorical_crossentropy',\n",
    "             metrics=['accuracy'])"
   ]
  },
  {
   "cell_type": "code",
   "execution_count": 43,
   "metadata": {
    "scrolled": true
   },
   "outputs": [
    {
     "name": "stdout",
     "output_type": "stream",
     "text": [
      "Epoch 1/100\n",
      "126/126 [==============================] - 4s 34ms/step - loss: 1.4320 - accuracy: 0.5450 - val_loss: 1.5520 - val_accuracy: 0.5754\n",
      "Epoch 2/100\n",
      "126/126 [==============================] - 4s 31ms/step - loss: 1.4185 - accuracy: 0.5540 - val_loss: 1.5665 - val_accuracy: 0.5701\n",
      "Epoch 3/100\n",
      "126/126 [==============================] - 4s 33ms/step - loss: 1.4403 - accuracy: 0.5482 - val_loss: 1.6009 - val_accuracy: 0.5486\n",
      "Epoch 4/100\n",
      "126/126 [==============================] - 4s 33ms/step - loss: 1.4447 - accuracy: 0.5395 - val_loss: 1.5712 - val_accuracy: 0.5671\n",
      "Epoch 5/100\n",
      "126/126 [==============================] - 4s 32ms/step - loss: 1.4044 - accuracy: 0.5433 - val_loss: 1.5407 - val_accuracy: 0.5534\n",
      "Epoch 6/100\n",
      "126/126 [==============================] - 4s 33ms/step - loss: 1.4264 - accuracy: 0.5522 - val_loss: 1.5899 - val_accuracy: 0.5474\n",
      "Epoch 7/100\n",
      "126/126 [==============================] - 4s 32ms/step - loss: 1.4423 - accuracy: 0.5361 - val_loss: 1.5660 - val_accuracy: 0.5713\n",
      "Epoch 8/100\n",
      "126/126 [==============================] - 4s 31ms/step - loss: 1.4203 - accuracy: 0.5480 - val_loss: 1.5200 - val_accuracy: 0.5760\n",
      "Epoch 9/100\n",
      "126/126 [==============================] - 4s 31ms/step - loss: 1.3978 - accuracy: 0.5472 - val_loss: 1.6070 - val_accuracy: 0.5319\n",
      "Epoch 10/100\n",
      "126/126 [==============================] - 4s 32ms/step - loss: 1.4347 - accuracy: 0.5341 - val_loss: 1.5670 - val_accuracy: 0.5581\n",
      "Epoch 11/100\n",
      "126/126 [==============================] - 4s 31ms/step - loss: 1.4052 - accuracy: 0.5579 - val_loss: 1.5582 - val_accuracy: 0.5569\n",
      "Epoch 12/100\n",
      "126/126 [==============================] - 4s 33ms/step - loss: 1.4235 - accuracy: 0.5604 - val_loss: 1.5954 - val_accuracy: 0.5516\n",
      "Epoch 13/100\n",
      "126/126 [==============================] - 4s 32ms/step - loss: 1.3893 - accuracy: 0.5569 - val_loss: 1.5553 - val_accuracy: 0.5736\n",
      "Epoch 14/100\n",
      "126/126 [==============================] - 4s 32ms/step - loss: 1.3961 - accuracy: 0.5517 - val_loss: 1.5780 - val_accuracy: 0.5605\n",
      "Epoch 15/100\n",
      "126/126 [==============================] - 4s 31ms/step - loss: 1.4685 - accuracy: 0.5323 - val_loss: 1.5932 - val_accuracy: 0.5569\n",
      "Epoch 16/100\n",
      "126/126 [==============================] - 4s 32ms/step - loss: 1.4229 - accuracy: 0.5435 - val_loss: 1.5556 - val_accuracy: 0.5587\n",
      "Epoch 17/100\n",
      "126/126 [==============================] - 4s 32ms/step - loss: 1.4122 - accuracy: 0.5520 - val_loss: 1.5968 - val_accuracy: 0.5569ss: 1.403\n",
      "Epoch 18/100\n",
      "126/126 [==============================] - 4s 31ms/step - loss: 1.4223 - accuracy: 0.5515 - val_loss: 1.6096 - val_accuracy: 0.5474\n",
      "Epoch 19/100\n",
      "126/126 [==============================] - 4s 32ms/step - loss: 1.3976 - accuracy: 0.5674 - val_loss: 1.6069 - val_accuracy: 0.5486\n",
      "Epoch 20/100\n",
      "126/126 [==============================] - 4s 31ms/step - loss: 1.4259 - accuracy: 0.5438 - val_loss: 1.6372 - val_accuracy: 0.5486\n",
      "Epoch 21/100\n",
      "126/126 [==============================] - 4s 31ms/step - loss: 1.4387 - accuracy: 0.5440 - val_loss: 1.5603 - val_accuracy: 0.5742\n",
      "Epoch 22/100\n",
      "126/126 [==============================] - 4s 31ms/step - loss: 1.4039 - accuracy: 0.5477 - val_loss: 1.5662 - val_accuracy: 0.5671\n",
      "Epoch 23/100\n",
      "126/126 [==============================] - 4s 32ms/step - loss: 1.4206 - accuracy: 0.5472 - val_loss: 1.5921 - val_accuracy: 0.5534\n",
      "Epoch 24/100\n",
      "126/126 [==============================] - 4s 31ms/step - loss: 1.4168 - accuracy: 0.5604 - val_loss: 1.6272 - val_accuracy: 0.5617\n",
      "Epoch 25/100\n",
      "126/126 [==============================] - 4s 31ms/step - loss: 1.4349 - accuracy: 0.5433 - val_loss: 1.6377 - val_accuracy: 0.5361\n",
      "Epoch 26/100\n",
      "126/126 [==============================] - 4s 32ms/step - loss: 1.3694 - accuracy: 0.5639 - val_loss: 1.6210 - val_accuracy: 0.5546\n",
      "Epoch 27/100\n",
      "126/126 [==============================] - 4s 32ms/step - loss: 1.3905 - accuracy: 0.5629 - val_loss: 1.5827 - val_accuracy: 0.5701\n",
      "Epoch 28/100\n",
      "126/126 [==============================] - 4s 32ms/step - loss: 1.3815 - accuracy: 0.5582 - val_loss: 1.5654 - val_accuracy: 0.5516\n",
      "Epoch 29/100\n",
      "126/126 [==============================] - 4s 32ms/step - loss: 1.3888 - accuracy: 0.5567 - val_loss: 1.5783 - val_accuracy: 0.5629\n",
      "Epoch 30/100\n",
      "126/126 [==============================] - 4s 35ms/step - loss: 1.4039 - accuracy: 0.5520 - val_loss: 1.6211 - val_accuracy: 0.5403\n",
      "Epoch 31/100\n",
      "126/126 [==============================] - 4s 33ms/step - loss: 1.3936 - accuracy: 0.5542 - val_loss: 1.5877 - val_accuracy: 0.5611\n",
      "Epoch 32/100\n",
      "126/126 [==============================] - 4s 36ms/step - loss: 1.3856 - accuracy: 0.5574 - val_loss: 1.5937 - val_accuracy: 0.5605\n",
      "Epoch 33/100\n",
      "126/126 [==============================] - 4s 34ms/step - loss: 1.3752 - accuracy: 0.5681 - val_loss: 1.6268 - val_accuracy: 0.5534\n",
      "Epoch 34/100\n",
      "126/126 [==============================] - 4s 34ms/step - loss: 1.4165 - accuracy: 0.5490 - val_loss: 1.5906 - val_accuracy: 0.5575ss: 1.4227 - \n",
      "Epoch 35/100\n",
      "126/126 [==============================] - 4s 33ms/step - loss: 1.3826 - accuracy: 0.5659 - val_loss: 1.6383 - val_accuracy: 0.5575\n",
      "Epoch 36/100\n",
      "126/126 [==============================] - 4s 34ms/step - loss: 1.4062 - accuracy: 0.5457 - val_loss: 1.5884 - val_accuracy: 0.5611\n",
      "Epoch 37/100\n",
      "126/126 [==============================] - 4s 35ms/step - loss: 1.3579 - accuracy: 0.5696 - val_loss: 1.6410 - val_accuracy: 0.5319\n",
      "Epoch 38/100\n",
      "126/126 [==============================] - 4s 34ms/step - loss: 1.4231 - accuracy: 0.5510 - val_loss: 1.6311 - val_accuracy: 0.5367\n",
      "Epoch 39/100\n",
      "126/126 [==============================] - 4s 35ms/step - loss: 1.3856 - accuracy: 0.5602 - val_loss: 1.6583 - val_accuracy: 0.5253\n",
      "Epoch 40/100\n",
      "126/126 [==============================] - 5s 36ms/step - loss: 1.4263 - accuracy: 0.5517 - val_loss: 1.6190 - val_accuracy: 0.5540\n",
      "Epoch 41/100\n",
      "126/126 [==============================] - 4s 35ms/step - loss: 1.4371 - accuracy: 0.5537 - val_loss: 1.6845 - val_accuracy: 0.5289\n",
      "Epoch 42/100\n",
      "126/126 [==============================] - 4s 33ms/step - loss: 1.3938 - accuracy: 0.5592 - val_loss: 1.6803 - val_accuracy: 0.5474\n",
      "Epoch 43/100\n",
      "126/126 [==============================] - 4s 32ms/step - loss: 1.3949 - accuracy: 0.5599 - val_loss: 1.6703 - val_accuracy: 0.5313\n",
      "Epoch 44/100\n",
      "126/126 [==============================] - 4s 33ms/step - loss: 1.3830 - accuracy: 0.5517 - val_loss: 1.6336 - val_accuracy: 0.5540\n",
      "Epoch 45/100\n",
      "126/126 [==============================] - 4s 32ms/step - loss: 1.4368 - accuracy: 0.5537 - val_loss: 1.7117 - val_accuracy: 0.5325\n",
      "Epoch 46/100\n",
      "126/126 [==============================] - 4s 33ms/step - loss: 1.4097 - accuracy: 0.5502 - val_loss: 1.6746 - val_accuracy: 0.5283\n",
      "Epoch 47/100\n",
      "126/126 [==============================] - 4s 34ms/step - loss: 1.3992 - accuracy: 0.5500 - val_loss: 1.6558 - val_accuracy: 0.5492\n",
      "Epoch 48/100\n",
      "126/126 [==============================] - 4s 33ms/step - loss: 1.3765 - accuracy: 0.5559 - val_loss: 1.6181 - val_accuracy: 0.5617\n",
      "Epoch 49/100\n",
      "126/126 [==============================] - 4s 32ms/step - loss: 1.3439 - accuracy: 0.5751 - val_loss: 1.6353 - val_accuracy: 0.5492\n",
      "Epoch 50/100\n",
      "126/126 [==============================] - 4s 32ms/step - loss: 1.3476 - accuracy: 0.5748 - val_loss: 1.6485 - val_accuracy: 0.5635\n",
      "Epoch 51/100\n",
      "126/126 [==============================] - 4s 32ms/step - loss: 1.3618 - accuracy: 0.5726 - val_loss: 1.6111 - val_accuracy: 0.5534\n",
      "Epoch 52/100\n",
      "126/126 [==============================] - 4s 32ms/step - loss: 1.3488 - accuracy: 0.5751 - val_loss: 1.6317 - val_accuracy: 0.5498\n",
      "Epoch 53/100\n",
      "126/126 [==============================] - 4s 32ms/step - loss: 1.3527 - accuracy: 0.5738 - val_loss: 1.6164 - val_accuracy: 0.5641\n",
      "Epoch 54/100\n",
      "126/126 [==============================] - 4s 32ms/step - loss: 1.3753 - accuracy: 0.5624 - val_loss: 1.6248 - val_accuracy: 0.5420\n",
      "Epoch 55/100\n",
      "126/126 [==============================] - 4s 32ms/step - loss: 1.3587 - accuracy: 0.5738 - val_loss: 1.6738 - val_accuracy: 0.5170\n",
      "Epoch 56/100\n",
      "126/126 [==============================] - 4s 34ms/step - loss: 1.3672 - accuracy: 0.5654 - val_loss: 1.6563 - val_accuracy: 0.5438\n",
      "Epoch 57/100\n",
      "126/126 [==============================] - 4s 33ms/step - loss: 1.3603 - accuracy: 0.5701 - val_loss: 1.6813 - val_accuracy: 0.5325\n",
      "Epoch 58/100\n",
      "126/126 [==============================] - 4s 31ms/step - loss: 1.4057 - accuracy: 0.5547 - val_loss: 1.6474 - val_accuracy: 0.5426\n",
      "Epoch 59/100\n",
      "126/126 [==============================] - 5s 36ms/step - loss: 1.3722 - accuracy: 0.5607 - val_loss: 1.6635 - val_accuracy: 0.5474\n",
      "Epoch 60/100\n",
      "126/126 [==============================] - 5s 39ms/step - loss: 1.3640 - accuracy: 0.5776 - val_loss: 1.6502 - val_accuracy: 0.5391\n",
      "Epoch 61/100\n",
      "126/126 [==============================] - 4s 35ms/step - loss: 1.3638 - accuracy: 0.5719 - val_loss: 1.6478 - val_accuracy: 0.5426\n",
      "Epoch 62/100\n",
      "126/126 [==============================] - 4s 31ms/step - loss: 1.3539 - accuracy: 0.5736 - val_loss: 1.6306 - val_accuracy: 0.5540\n",
      "Epoch 63/100\n",
      "126/126 [==============================] - 4s 31ms/step - loss: 1.3481 - accuracy: 0.5719 - val_loss: 1.6797 - val_accuracy: 0.5271\n",
      "Epoch 64/100\n",
      "126/126 [==============================] - 4s 31ms/step - loss: 1.3889 - accuracy: 0.5552 - val_loss: 1.6426 - val_accuracy: 0.5319\n",
      "Epoch 65/100\n",
      "126/126 [==============================] - 4s 31ms/step - loss: 1.3855 - accuracy: 0.5587 - val_loss: 1.6746 - val_accuracy: 0.5391\n",
      "Epoch 66/100\n",
      "126/126 [==============================] - 4s 31ms/step - loss: 1.3354 - accuracy: 0.5806 - val_loss: 1.6215 - val_accuracy: 0.5516\n",
      "Epoch 67/100\n",
      "126/126 [==============================] - 4s 32ms/step - loss: 1.3401 - accuracy: 0.5701 - val_loss: 1.6950 - val_accuracy: 0.5212\n",
      "Epoch 68/100\n",
      "126/126 [==============================] - 4s 32ms/step - loss: 1.3424 - accuracy: 0.5761 - val_loss: 1.6720 - val_accuracy: 0.5426\n",
      "Epoch 69/100\n",
      "126/126 [==============================] - 4s 31ms/step - loss: 1.3425 - accuracy: 0.5816 - val_loss: 1.6523 - val_accuracy: 0.5385\n",
      "Epoch 70/100\n",
      "126/126 [==============================] - 4s 31ms/step - loss: 1.3948 - accuracy: 0.5594 - val_loss: 1.6674 - val_accuracy: 0.5301\n",
      "Epoch 71/100\n",
      "126/126 [==============================] - 4s 31ms/step - loss: 1.4088 - accuracy: 0.5500 - val_loss: 1.7001 - val_accuracy: 0.5247\n",
      "Epoch 72/100\n",
      "126/126 [==============================] - 4s 31ms/step - loss: 1.4103 - accuracy: 0.5457 - val_loss: 1.6902 - val_accuracy: 0.5182\n",
      "Epoch 73/100\n",
      "126/126 [==============================] - 4s 31ms/step - loss: 1.3311 - accuracy: 0.5855 - val_loss: 1.7057 - val_accuracy: 0.5510\n",
      "Epoch 74/100\n",
      "126/126 [==============================] - 4s 30ms/step - loss: 1.3399 - accuracy: 0.5768 - val_loss: 1.6768 - val_accuracy: 0.5373\n",
      "Epoch 75/100\n",
      "126/126 [==============================] - 4s 30ms/step - loss: 1.3747 - accuracy: 0.5661 - val_loss: 1.7059 - val_accuracy: 0.5569\n",
      "Epoch 76/100\n",
      "126/126 [==============================] - 4s 31ms/step - loss: 1.3526 - accuracy: 0.5716 - val_loss: 1.6931 - val_accuracy: 0.5486\n",
      "Epoch 77/100\n",
      "126/126 [==============================] - 4s 31ms/step - loss: 1.3730 - accuracy: 0.5674 - val_loss: 1.6843 - val_accuracy: 0.5212\n",
      "Epoch 78/100\n",
      "126/126 [==============================] - 5s 36ms/step - loss: 1.4062 - accuracy: 0.5492 - val_loss: 1.6674 - val_accuracy: 0.5218\n",
      "Epoch 79/100\n",
      "126/126 [==============================] - 5s 37ms/step - loss: 1.3748 - accuracy: 0.5584 - val_loss: 1.6782 - val_accuracy: 0.5397\n",
      "Epoch 80/100\n",
      "126/126 [==============================] - 4s 32ms/step - loss: 1.3672 - accuracy: 0.5554 - val_loss: 1.6888 - val_accuracy: 0.5462\n",
      "Epoch 81/100\n",
      "126/126 [==============================] - 4s 33ms/step - loss: 1.3476 - accuracy: 0.5766 - val_loss: 1.6741 - val_accuracy: 0.5438\n",
      "Epoch 82/100\n",
      "126/126 [==============================] - 4s 32ms/step - loss: 1.3525 - accuracy: 0.5748 - val_loss: 1.7649 - val_accuracy: 0.5188\n",
      "Epoch 83/100\n",
      "126/126 [==============================] - 4s 32ms/step - loss: 1.3666 - accuracy: 0.5669 - val_loss: 1.7885 - val_accuracy: 0.5086\n",
      "Epoch 84/100\n",
      "126/126 [==============================] - 4s 33ms/step - loss: 1.3525 - accuracy: 0.5666 - val_loss: 1.7141 - val_accuracy: 0.5361\n",
      "Epoch 85/100\n",
      "126/126 [==============================] - 4s 32ms/step - loss: 1.3649 - accuracy: 0.5714 - val_loss: 1.7352 - val_accuracy: 0.5277\n",
      "Epoch 86/100\n",
      "126/126 [==============================] - 4s 32ms/step - loss: 1.3209 - accuracy: 0.5803 - val_loss: 1.6914 - val_accuracy: 0.5599\n",
      "Epoch 87/100\n",
      "126/126 [==============================] - 4s 33ms/step - loss: 1.3329 - accuracy: 0.5830 - val_loss: 1.7474 - val_accuracy: 0.5385\n",
      "Epoch 88/100\n",
      "126/126 [==============================] - 4s 32ms/step - loss: 1.3670 - accuracy: 0.5656 - val_loss: 1.7295 - val_accuracy: 0.5194\n",
      "Epoch 89/100\n",
      "126/126 [==============================] - 4s 32ms/step - loss: 1.3406 - accuracy: 0.5724 - val_loss: 1.7248 - val_accuracy: 0.5403\n",
      "Epoch 90/100\n",
      "126/126 [==============================] - 4s 31ms/step - loss: 1.3667 - accuracy: 0.5597 - val_loss: 1.6933 - val_accuracy: 0.5373\n",
      "Epoch 91/100\n",
      "126/126 [==============================] - 4s 32ms/step - loss: 1.3367 - accuracy: 0.5721 - val_loss: 1.6693 - val_accuracy: 0.5456\n",
      "Epoch 92/100\n",
      "126/126 [==============================] - 4s 31ms/step - loss: 1.3332 - accuracy: 0.5811 - val_loss: 1.6975 - val_accuracy: 0.5289\n",
      "Epoch 93/100\n",
      "126/126 [==============================] - 4s 32ms/step - loss: 1.3465 - accuracy: 0.5811 - val_loss: 1.6964 - val_accuracy: 0.5242\n",
      "Epoch 94/100\n",
      "126/126 [==============================] - 4s 32ms/step - loss: 1.3614 - accuracy: 0.5654 - val_loss: 1.6984 - val_accuracy: 0.5307\n",
      "Epoch 95/100\n",
      "126/126 [==============================] - 4s 32ms/step - loss: 1.3630 - accuracy: 0.5671 - val_loss: 1.7104 - val_accuracy: 0.5397\n",
      "Epoch 96/100\n",
      "126/126 [==============================] - 4s 32ms/step - loss: 1.3247 - accuracy: 0.5880 - val_loss: 1.7553 - val_accuracy: 0.5200\n",
      "Epoch 97/100\n",
      "126/126 [==============================] - 4s 32ms/step - loss: 1.3496 - accuracy: 0.5833 - val_loss: 1.7267 - val_accuracy: 0.5224\n",
      "Epoch 98/100\n",
      "126/126 [==============================] - 4s 32ms/step - loss: 1.3830 - accuracy: 0.5651 - val_loss: 1.7990 - val_accuracy: 0.5152\n",
      "Epoch 99/100\n",
      "126/126 [==============================] - 4s 32ms/step - loss: 1.3121 - accuracy: 0.5843 - val_loss: 1.7315 - val_accuracy: 0.5259\n",
      "Epoch 100/100\n",
      "126/126 [==============================] - 4s 32ms/step - loss: 1.3319 - accuracy: 0.5801 - val_loss: 1.7850 - val_accuracy: 0.5098\n"
     ]
    }
   ],
   "source": [
    "#train model\n",
    "history = model_regulrized.fit(X_train,y_train,validation_data=(X_test,y_test),batch_size=32,epochs=100)"
   ]
  },
  {
   "cell_type": "code",
   "execution_count": 33,
   "metadata": {
    "scrolled": true
   },
   "outputs": [
    {
     "name": "stdout",
     "output_type": "stream",
     "text": [
      "53/53 - 0s - loss: 1.4926 - accuracy: 0.6297\n",
      "\n",
      "Test accuracy: 0.6296958923339844\n"
     ]
    }
   ],
   "source": [
    "# evaluate model on Test Set\n",
    "test_loss, test_acc = model_regulrized.evaluate(X_test, y_test, verbose=2)\n",
    "print('\\nTest accuracy:', test_acc)"
   ]
  },
  {
   "cell_type": "markdown",
   "metadata": {},
   "source": [
    "# CNN Model"
   ]
  },
  {
   "cell_type": "code",
   "execution_count": 46,
   "metadata": {},
   "outputs": [],
   "source": [
    "# create train, validation and test split\n",
    "X_train, X_test, y_train, y_test = train_test_split(X, y, test_size=0.25)\n",
    "X_train, X_validation, y_train, y_validation = train_test_split(X_train, y_train, test_size=0.2)\n",
    "\n",
    "# add an axis to input sets\n",
    "X_train = X_train[..., np.newaxis]\n",
    "X_validation = X_validation[..., np.newaxis]\n",
    "X_test = X_test[..., np.newaxis]"
   ]
  },
  {
   "cell_type": "code",
   "execution_count": 47,
   "metadata": {},
   "outputs": [
    {
     "data": {
      "text/plain": [
       "(4022, 130, 13, 1)"
      ]
     },
     "execution_count": 47,
     "metadata": {},
     "output_type": "execute_result"
    }
   ],
   "source": [
    "X_train.shape"
   ]
  },
  {
   "cell_type": "code",
   "execution_count": 48,
   "metadata": {},
   "outputs": [],
   "source": [
    "input_shape=(X_train.shape[1],X_train.shape[2],1)"
   ]
  },
  {
   "cell_type": "code",
   "execution_count": 49,
   "metadata": {},
   "outputs": [],
   "source": [
    "# build the CNN\n",
    "model_cnn = keras.Sequential()\n",
    "\n",
    "# 1st conv layer\n",
    "model_cnn.add(keras.layers.Conv2D(64, (3, 3), activation='relu', input_shape=input_shape)) #32 is num of filters,(3,3) convolutional mask dimension\n",
    "model_cnn.add(keras.layers.MaxPooling2D((3, 3), strides=(2, 2), padding='same'))\n",
    "model_cnn.add(keras.layers.BatchNormalization())\n",
    "\n",
    "# 2nd conv layer\n",
    "model_cnn.add(keras.layers.Conv2D(128, (3, 3), activation='relu'))\n",
    "model_cnn.add(keras.layers.MaxPooling2D((3, 3), strides=(2, 2), padding='same'))\n",
    "model_cnn.add(keras.layers.BatchNormalization())\n",
    "\n",
    "# 3rd conv layer\n",
    "model_cnn.add(keras.layers.Conv2D(64, (2, 2), activation='relu'))\n",
    "model_cnn.add(keras.layers.MaxPooling2D((2, 2), strides=(2, 2), padding='same'))\n",
    "model_cnn.add(keras.layers.BatchNormalization())\n",
    "\n",
    "# flatten output and feed it into dense layer\n",
    "model_cnn.add(keras.layers.Flatten())\n",
    "model_cnn.add(keras.layers.Dense(64, activation='relu'))\n",
    "model_cnn.add(keras.layers.Dropout(0.8))\n",
    "\n",
    "# output layer\n",
    "model_cnn.add(keras.layers.Dense(11, activation='softmax'))"
   ]
  },
  {
   "cell_type": "code",
   "execution_count": 50,
   "metadata": {},
   "outputs": [],
   "source": [
    "# compile model\n",
    "optimiser = keras.optimizers.Adam(learning_rate=0.0001)\n",
    "model_cnn.compile(optimizer=optimiser,\n",
    "              loss='sparse_categorical_crossentropy',\n",
    "              metrics=['accuracy'])"
   ]
  },
  {
   "cell_type": "code",
   "execution_count": 51,
   "metadata": {},
   "outputs": [
    {
     "name": "stdout",
     "output_type": "stream",
     "text": [
      "Model: \"sequential_2\"\n",
      "_________________________________________________________________\n",
      "Layer (type)                 Output Shape              Param #   \n",
      "=================================================================\n",
      "conv2d_3 (Conv2D)            (None, 128, 11, 64)       640       \n",
      "_________________________________________________________________\n",
      "max_pooling2d_3 (MaxPooling2 (None, 64, 6, 64)         0         \n",
      "_________________________________________________________________\n",
      "batch_normalization_3 (Batch (None, 64, 6, 64)         256       \n",
      "_________________________________________________________________\n",
      "conv2d_4 (Conv2D)            (None, 62, 4, 128)        73856     \n",
      "_________________________________________________________________\n",
      "max_pooling2d_4 (MaxPooling2 (None, 31, 2, 128)        0         \n",
      "_________________________________________________________________\n",
      "batch_normalization_4 (Batch (None, 31, 2, 128)        512       \n",
      "_________________________________________________________________\n",
      "conv2d_5 (Conv2D)            (None, 30, 1, 64)         32832     \n",
      "_________________________________________________________________\n",
      "max_pooling2d_5 (MaxPooling2 (None, 15, 1, 64)         0         \n",
      "_________________________________________________________________\n",
      "batch_normalization_5 (Batch (None, 15, 1, 64)         256       \n",
      "_________________________________________________________________\n",
      "flatten_2 (Flatten)          (None, 960)               0         \n",
      "_________________________________________________________________\n",
      "dense_6 (Dense)              (None, 64)                61504     \n",
      "_________________________________________________________________\n",
      "dropout_4 (Dropout)          (None, 64)                0         \n",
      "_________________________________________________________________\n",
      "dense_7 (Dense)              (None, 11)                715       \n",
      "=================================================================\n",
      "Total params: 170,571\n",
      "Trainable params: 170,059\n",
      "Non-trainable params: 512\n",
      "_________________________________________________________________\n"
     ]
    }
   ],
   "source": [
    "model_cnn.summary()"
   ]
  },
  {
   "cell_type": "code",
   "execution_count": 52,
   "metadata": {
    "scrolled": false
   },
   "outputs": [
    {
     "name": "stdout",
     "output_type": "stream",
     "text": [
      "Epoch 1/100\n",
      "126/126 [==============================] - 28s 222ms/step - loss: 4.0964 - accuracy: 0.1134 - val_loss: 2.4147 - val_accuracy: 0.1431\n",
      "Epoch 2/100\n",
      "126/126 [==============================] - 28s 220ms/step - loss: 3.3860 - accuracy: 0.1442 - val_loss: 2.2116 - val_accuracy: 0.2376\n",
      "Epoch 3/100\n",
      "126/126 [==============================] - 28s 220ms/step - loss: 3.0700 - accuracy: 0.1691 - val_loss: 2.2076 - val_accuracy: 0.2416\n",
      "Epoch 4/100\n",
      "126/126 [==============================] - 28s 222ms/step - loss: 2.8780 - accuracy: 0.1668 - val_loss: 2.1256 - val_accuracy: 0.2803\n",
      "Epoch 5/100\n",
      "126/126 [==============================] - 28s 224ms/step - loss: 2.6755 - accuracy: 0.1967 - val_loss: 2.0718 - val_accuracy: 0.3201\n",
      "Epoch 6/100\n",
      "126/126 [==============================] - 28s 224ms/step - loss: 2.6192 - accuracy: 0.1825 - val_loss: 2.0521 - val_accuracy: 0.3012\n",
      "Epoch 7/100\n",
      "126/126 [==============================] - 29s 231ms/step - loss: 2.4806 - accuracy: 0.2096 - val_loss: 2.0152 - val_accuracy: 0.3171\n",
      "Epoch 8/100\n",
      "126/126 [==============================] - 31s 249ms/step - loss: 2.3920 - accuracy: 0.2233 - val_loss: 1.9930 - val_accuracy: 0.3360\n",
      "Epoch 9/100\n",
      "126/126 [==============================] - 34s 267ms/step - loss: 2.3295 - accuracy: 0.2270 - val_loss: 1.9850 - val_accuracy: 0.3380\n",
      "Epoch 10/100\n",
      "126/126 [==============================] - 33s 259ms/step - loss: 2.2707 - accuracy: 0.2335 - val_loss: 1.9530 - val_accuracy: 0.3628\n",
      "Epoch 11/100\n",
      "126/126 [==============================] - 31s 250ms/step - loss: 2.2418 - accuracy: 0.2364 - val_loss: 1.9280 - val_accuracy: 0.3628\n",
      "Epoch 12/100\n",
      "126/126 [==============================] - 32s 256ms/step - loss: 2.1958 - accuracy: 0.2603 - val_loss: 1.9214 - val_accuracy: 0.3648\n",
      "Epoch 13/100\n",
      "126/126 [==============================] - 31s 250ms/step - loss: 2.1729 - accuracy: 0.2531 - val_loss: 1.9129 - val_accuracy: 0.3638\n",
      "Epoch 14/100\n",
      "126/126 [==============================] - 32s 257ms/step - loss: 2.1380 - accuracy: 0.2705 - val_loss: 1.9033 - val_accuracy: 0.3618\n",
      "Epoch 15/100\n",
      "126/126 [==============================] - 34s 273ms/step - loss: 2.1178 - accuracy: 0.2765 - val_loss: 1.8961 - val_accuracy: 0.3748\n",
      "Epoch 16/100\n",
      "126/126 [==============================] - 32s 251ms/step - loss: 2.1265 - accuracy: 0.2770 - val_loss: 1.8660 - val_accuracy: 0.3728\n",
      "Epoch 17/100\n",
      "126/126 [==============================] - 33s 264ms/step - loss: 2.0994 - accuracy: 0.2800 - val_loss: 1.8654 - val_accuracy: 0.3738\n",
      "Epoch 18/100\n",
      "126/126 [==============================] - 33s 261ms/step - loss: 2.0648 - accuracy: 0.2810 - val_loss: 1.8528 - val_accuracy: 0.3887\n",
      "Epoch 19/100\n",
      "126/126 [==============================] - 34s 267ms/step - loss: 2.0460 - accuracy: 0.2924 - val_loss: 1.8409 - val_accuracy: 0.3966\n",
      "Epoch 20/100\n",
      "126/126 [==============================] - 38s 298ms/step - loss: 2.0317 - accuracy: 0.3023 - val_loss: 1.8534 - val_accuracy: 0.3956\n",
      "Epoch 21/100\n",
      "126/126 [==============================] - 36s 289ms/step - loss: 2.0335 - accuracy: 0.3006 - val_loss: 1.8481 - val_accuracy: 0.3976\n",
      "Epoch 22/100\n",
      "126/126 [==============================] - 34s 272ms/step - loss: 1.9958 - accuracy: 0.3073 - val_loss: 1.8258 - val_accuracy: 0.4056\n",
      "Epoch 23/100\n",
      "126/126 [==============================] - 36s 282ms/step - loss: 1.9743 - accuracy: 0.3205 - val_loss: 1.8095 - val_accuracy: 0.4076\n",
      "Epoch 24/100\n",
      "126/126 [==============================] - 34s 267ms/step - loss: 1.9485 - accuracy: 0.3292 - val_loss: 1.7999 - val_accuracy: 0.4076\n",
      "Epoch 25/100\n",
      "126/126 [==============================] - 37s 297ms/step - loss: 1.9445 - accuracy: 0.3265 - val_loss: 1.8046 - val_accuracy: 0.4066\n",
      "Epoch 26/100\n",
      "126/126 [==============================] - 37s 296ms/step - loss: 1.9325 - accuracy: 0.3381 - val_loss: 1.7866 - val_accuracy: 0.4195\n",
      "Epoch 27/100\n",
      "126/126 [==============================] - 38s 303ms/step - loss: 1.9052 - accuracy: 0.3389 - val_loss: 1.7696 - val_accuracy: 0.4274\n",
      "Epoch 28/100\n",
      "126/126 [==============================] - 43s 340ms/step - loss: 1.9258 - accuracy: 0.3369 - val_loss: 1.7540 - val_accuracy: 0.4304\n",
      "Epoch 29/100\n",
      "126/126 [==============================] - 40s 316ms/step - loss: 1.8909 - accuracy: 0.3416 - val_loss: 1.7335 - val_accuracy: 0.4225\n",
      "Epoch 30/100\n",
      "126/126 [==============================] - 39s 313ms/step - loss: 1.8939 - accuracy: 0.3369 - val_loss: 1.7572 - val_accuracy: 0.4105\n",
      "Epoch 31/100\n",
      "126/126 [==============================] - 40s 319ms/step - loss: 1.8717 - accuracy: 0.3590 - val_loss: 1.7362 - val_accuracy: 0.4235\n",
      "Epoch 32/100\n",
      "126/126 [==============================] - 41s 325ms/step - loss: 1.8450 - accuracy: 0.3675 - val_loss: 1.7067 - val_accuracy: 0.4394\n",
      "Epoch 33/100\n",
      "126/126 [==============================] - 37s 292ms/step - loss: 1.8733 - accuracy: 0.3595 - val_loss: 1.7140 - val_accuracy: 0.4344\n",
      "Epoch 34/100\n",
      "126/126 [==============================] - 35s 274ms/step - loss: 1.8531 - accuracy: 0.3630 - val_loss: 1.7060 - val_accuracy: 0.4394\n",
      "Epoch 35/100\n",
      "126/126 [==============================] - 34s 271ms/step - loss: 1.8195 - accuracy: 0.3720 - val_loss: 1.7010 - val_accuracy: 0.4473\n",
      "Epoch 36/100\n",
      "126/126 [==============================] - 38s 298ms/step - loss: 1.7992 - accuracy: 0.3737 - val_loss: 1.7058 - val_accuracy: 0.4473\n",
      "Epoch 37/100\n",
      "126/126 [==============================] - 39s 306ms/step - loss: 1.8294 - accuracy: 0.3700 - val_loss: 1.7051 - val_accuracy: 0.4384\n",
      "Epoch 38/100\n",
      "126/126 [==============================] - 40s 319ms/step - loss: 1.7831 - accuracy: 0.3899 - val_loss: 1.6637 - val_accuracy: 0.4463\n",
      "Epoch 39/100\n",
      "126/126 [==============================] - 35s 276ms/step - loss: 1.7759 - accuracy: 0.3844 - val_loss: 1.7019 - val_accuracy: 0.4374\n",
      "Epoch 40/100\n",
      "126/126 [==============================] - 42s 335ms/step - loss: 1.7632 - accuracy: 0.3911 - val_loss: 1.6860 - val_accuracy: 0.4384\n",
      "Epoch 41/100\n",
      "126/126 [==============================] - 39s 307ms/step - loss: 1.7620 - accuracy: 0.3896 - val_loss: 1.6390 - val_accuracy: 0.4563\n",
      "Epoch 42/100\n",
      "126/126 [==============================] - 40s 320ms/step - loss: 1.7520 - accuracy: 0.3918 - val_loss: 1.6310 - val_accuracy: 0.4662\n",
      "Epoch 43/100\n",
      "126/126 [==============================] - 38s 299ms/step - loss: 1.7323 - accuracy: 0.4050 - val_loss: 1.6497 - val_accuracy: 0.4602\n",
      "Epoch 44/100\n",
      "126/126 [==============================] - 37s 296ms/step - loss: 1.7163 - accuracy: 0.3963 - val_loss: 1.6591 - val_accuracy: 0.4543\n",
      "Epoch 45/100\n",
      "126/126 [==============================] - 38s 300ms/step - loss: 1.6967 - accuracy: 0.4092 - val_loss: 1.7072 - val_accuracy: 0.4364\n",
      "Epoch 46/100\n",
      "126/126 [==============================] - 39s 309ms/step - loss: 1.7014 - accuracy: 0.4115 - val_loss: 1.6518 - val_accuracy: 0.4662\n",
      "Epoch 47/100\n",
      "126/126 [==============================] - 37s 295ms/step - loss: 1.6852 - accuracy: 0.4122 - val_loss: 1.5941 - val_accuracy: 0.4722\n",
      "Epoch 48/100\n",
      "126/126 [==============================] - 38s 299ms/step - loss: 1.6546 - accuracy: 0.4214 - val_loss: 1.6666 - val_accuracy: 0.4483\n",
      "Epoch 49/100\n",
      "126/126 [==============================] - 41s 323ms/step - loss: 1.6622 - accuracy: 0.4162 - val_loss: 1.5777 - val_accuracy: 0.4901\n",
      "Epoch 50/100\n",
      "126/126 [==============================] - 37s 293ms/step - loss: 1.6331 - accuracy: 0.4274 - val_loss: 1.5898 - val_accuracy: 0.4811\n",
      "Epoch 51/100\n",
      "126/126 [==============================] - 38s 303ms/step - loss: 1.6347 - accuracy: 0.4244 - val_loss: 1.6159 - val_accuracy: 0.4672\n",
      "Epoch 52/100\n",
      "126/126 [==============================] - 37s 297ms/step - loss: 1.6395 - accuracy: 0.4331 - val_loss: 1.5774 - val_accuracy: 0.4970\n",
      "Epoch 53/100\n",
      "126/126 [==============================] - 38s 305ms/step - loss: 1.6119 - accuracy: 0.4411 - val_loss: 1.5288 - val_accuracy: 0.5089\n",
      "Epoch 54/100\n",
      "126/126 [==============================] - 37s 296ms/step - loss: 1.5738 - accuracy: 0.4538 - val_loss: 1.6434 - val_accuracy: 0.4592\n",
      "Epoch 55/100\n",
      "126/126 [==============================] - 38s 305ms/step - loss: 1.6080 - accuracy: 0.4426 - val_loss: 1.5721 - val_accuracy: 0.4950\n",
      "Epoch 56/100\n",
      "126/126 [==============================] - 39s 312ms/step - loss: 1.5783 - accuracy: 0.4431 - val_loss: 1.5375 - val_accuracy: 0.5050\n",
      "Epoch 57/100\n",
      "126/126 [==============================] - 38s 302ms/step - loss: 1.5651 - accuracy: 0.4495 - val_loss: 1.5769 - val_accuracy: 0.4841\n",
      "Epoch 58/100\n",
      "126/126 [==============================] - 32s 254ms/step - loss: 1.5764 - accuracy: 0.4480 - val_loss: 1.5147 - val_accuracy: 0.5040\n",
      "Epoch 59/100\n",
      "126/126 [==============================] - 31s 248ms/step - loss: 1.5202 - accuracy: 0.4784 - val_loss: 1.6462 - val_accuracy: 0.4682\n",
      "Epoch 60/100\n",
      "126/126 [==============================] - 35s 276ms/step - loss: 1.5203 - accuracy: 0.4741 - val_loss: 1.6022 - val_accuracy: 0.4831\n",
      "Epoch 61/100\n",
      "126/126 [==============================] - 33s 265ms/step - loss: 1.5372 - accuracy: 0.4652 - val_loss: 1.5226 - val_accuracy: 0.4990\n",
      "Epoch 62/100\n",
      "126/126 [==============================] - 31s 247ms/step - loss: 1.5151 - accuracy: 0.4784 - val_loss: 1.4750 - val_accuracy: 0.5179\n",
      "Epoch 63/100\n",
      "126/126 [==============================] - 31s 247ms/step - loss: 1.5265 - accuracy: 0.4610 - val_loss: 1.5131 - val_accuracy: 0.5000\n",
      "Epoch 64/100\n",
      "126/126 [==============================] - 32s 253ms/step - loss: 1.4993 - accuracy: 0.4779 - val_loss: 1.4845 - val_accuracy: 0.5258\n",
      "Epoch 65/100\n",
      "126/126 [==============================] - 32s 255ms/step - loss: 1.4857 - accuracy: 0.4814 - val_loss: 1.5336 - val_accuracy: 0.4960\n",
      "Epoch 66/100\n",
      "126/126 [==============================] - 31s 246ms/step - loss: 1.4509 - accuracy: 0.4930 - val_loss: 1.5060 - val_accuracy: 0.5109\n",
      "Epoch 67/100\n",
      "126/126 [==============================] - 35s 275ms/step - loss: 1.4759 - accuracy: 0.4814 - val_loss: 1.4921 - val_accuracy: 0.5179\n",
      "Epoch 68/100\n",
      "126/126 [==============================] - 37s 295ms/step - loss: 1.4478 - accuracy: 0.4868 - val_loss: 1.4946 - val_accuracy: 0.5159\n",
      "Epoch 69/100\n",
      "126/126 [==============================] - 37s 291ms/step - loss: 1.4740 - accuracy: 0.4883 - val_loss: 1.4483 - val_accuracy: 0.5378\n",
      "Epoch 70/100\n",
      "126/126 [==============================] - 36s 285ms/step - loss: 1.4679 - accuracy: 0.4935 - val_loss: 1.4730 - val_accuracy: 0.5229\n",
      "Epoch 71/100\n",
      "126/126 [==============================] - 37s 294ms/step - loss: 1.4361 - accuracy: 0.4918 - val_loss: 1.5118 - val_accuracy: 0.5060\n",
      "Epoch 72/100\n",
      "126/126 [==============================] - 36s 286ms/step - loss: 1.4004 - accuracy: 0.5082 - val_loss: 1.4507 - val_accuracy: 0.5099\n",
      "Epoch 73/100\n",
      "126/126 [==============================] - 39s 306ms/step - loss: 1.4276 - accuracy: 0.4915 - val_loss: 1.4786 - val_accuracy: 0.5080\n",
      "Epoch 74/100\n",
      "126/126 [==============================] - 38s 299ms/step - loss: 1.4174 - accuracy: 0.4958 - val_loss: 1.4658 - val_accuracy: 0.5139\n",
      "Epoch 75/100\n",
      "126/126 [==============================] - 39s 313ms/step - loss: 1.4207 - accuracy: 0.5062 - val_loss: 1.4643 - val_accuracy: 0.5199\n",
      "Epoch 76/100\n",
      "126/126 [==============================] - 38s 301ms/step - loss: 1.3817 - accuracy: 0.5050 - val_loss: 1.4692 - val_accuracy: 0.5129\n",
      "Epoch 77/100\n",
      "126/126 [==============================] - 35s 281ms/step - loss: 1.3789 - accuracy: 0.5199 - val_loss: 1.4638 - val_accuracy: 0.5358\n",
      "Epoch 78/100\n",
      "126/126 [==============================] - 36s 288ms/step - loss: 1.3751 - accuracy: 0.5157 - val_loss: 1.5105 - val_accuracy: 0.5139\n",
      "Epoch 79/100\n",
      "126/126 [==============================] - 31s 246ms/step - loss: 1.3482 - accuracy: 0.5239 - val_loss: 1.4640 - val_accuracy: 0.5239\n",
      "Epoch 80/100\n",
      "126/126 [==============================] - 34s 271ms/step - loss: 1.3294 - accuracy: 0.5346 - val_loss: 1.4387 - val_accuracy: 0.5447\n",
      "Epoch 81/100\n",
      "126/126 [==============================] - 36s 282ms/step - loss: 1.3375 - accuracy: 0.5259 - val_loss: 1.4199 - val_accuracy: 0.5447\n",
      "Epoch 82/100\n",
      "126/126 [==============================] - 34s 273ms/step - loss: 1.3419 - accuracy: 0.5286 - val_loss: 1.4240 - val_accuracy: 0.5447\n",
      "Epoch 83/100\n",
      "126/126 [==============================] - 40s 314ms/step - loss: 1.3005 - accuracy: 0.5415 - val_loss: 1.4124 - val_accuracy: 0.5527\n",
      "Epoch 84/100\n",
      "126/126 [==============================] - 38s 299ms/step - loss: 1.2938 - accuracy: 0.5403 - val_loss: 1.4429 - val_accuracy: 0.5318\n",
      "Epoch 85/100\n",
      "126/126 [==============================] - 33s 263ms/step - loss: 1.2945 - accuracy: 0.5455 - val_loss: 1.4954 - val_accuracy: 0.5358\n",
      "Epoch 86/100\n",
      "126/126 [==============================] - 32s 255ms/step - loss: 1.3173 - accuracy: 0.5281 - val_loss: 1.5130 - val_accuracy: 0.5338\n",
      "Epoch 87/100\n",
      "126/126 [==============================] - 31s 243ms/step - loss: 1.2600 - accuracy: 0.5557 - val_loss: 1.4405 - val_accuracy: 0.5328\n",
      "Epoch 88/100\n",
      "126/126 [==============================] - 31s 247ms/step - loss: 1.2701 - accuracy: 0.5465 - val_loss: 1.3940 - val_accuracy: 0.5517\n",
      "Epoch 89/100\n",
      "126/126 [==============================] - 35s 274ms/step - loss: 1.2495 - accuracy: 0.5522 - val_loss: 1.4123 - val_accuracy: 0.5606\n",
      "Epoch 90/100\n",
      "126/126 [==============================] - 35s 276ms/step - loss: 1.2675 - accuracy: 0.5425 - val_loss: 1.4123 - val_accuracy: 0.5606\n",
      "Epoch 91/100\n",
      "126/126 [==============================] - 31s 249ms/step - loss: 1.2527 - accuracy: 0.5604 - val_loss: 1.4027 - val_accuracy: 0.5427\n",
      "Epoch 92/100\n",
      "126/126 [==============================] - 36s 283ms/step - loss: 1.2605 - accuracy: 0.5520 - val_loss: 1.4310 - val_accuracy: 0.5517\n",
      "Epoch 93/100\n",
      "126/126 [==============================] - 35s 279ms/step - loss: 1.2459 - accuracy: 0.5552 - val_loss: 1.4601 - val_accuracy: 0.5467\n",
      "Epoch 94/100\n",
      "126/126 [==============================] - 43s 342ms/step - loss: 1.2299 - accuracy: 0.5607 - val_loss: 1.4273 - val_accuracy: 0.5467\n",
      "Epoch 95/100\n",
      "126/126 [==============================] - 43s 342ms/step - loss: 1.2146 - accuracy: 0.5634 - val_loss: 1.3980 - val_accuracy: 0.5437\n",
      "Epoch 96/100\n",
      "126/126 [==============================] - 37s 292ms/step - loss: 1.2317 - accuracy: 0.5659 - val_loss: 1.6572 - val_accuracy: 0.4861\n",
      "Epoch 97/100\n",
      "126/126 [==============================] - 34s 273ms/step - loss: 1.1979 - accuracy: 0.5758 - val_loss: 1.3859 - val_accuracy: 0.5437\n",
      "Epoch 98/100\n",
      "126/126 [==============================] - 48s 382ms/step - loss: 1.2075 - accuracy: 0.5669 - val_loss: 1.4246 - val_accuracy: 0.5457\n",
      "Epoch 99/100\n",
      "126/126 [==============================] - 45s 359ms/step - loss: 1.1993 - accuracy: 0.5748 - val_loss: 1.4043 - val_accuracy: 0.5716\n",
      "Epoch 100/100\n",
      "126/126 [==============================] - 43s 341ms/step - loss: 1.1789 - accuracy: 0.5736 - val_loss: 1.3674 - val_accuracy: 0.5586\n"
     ]
    }
   ],
   "source": [
    "# train model\n",
    "history = model_cnn.fit(X_train, y_train, validation_data=(X_validation, y_validation), batch_size=32, epochs=100)"
   ]
  },
  {
   "cell_type": "code",
   "execution_count": 54,
   "metadata": {
    "scrolled": false
   },
   "outputs": [
    {
     "name": "stdout",
     "output_type": "stream",
     "text": [
      "53/53 - 3s - loss: 1.2758 - accuracy: 0.5963\n",
      "\n",
      "Test accuracy: 0.5963029265403748\n"
     ]
    }
   ],
   "source": [
    "# evaluate model on Test Set\n",
    "test_loss, test_acc = model_cnn.evaluate(X_test, y_test, verbose=2)\n",
    "print('\\nTest accuracy:', test_acc)"
   ]
  },
  {
   "cell_type": "code",
   "execution_count": 53,
   "metadata": {
    "scrolled": true
   },
   "outputs": [
    {
     "name": "stdout",
     "output_type": "stream",
     "text": [
      "53/53 - 0s - loss: 1.1720 - accuracy: 0.6881\n",
      "\n",
      "Test accuracy: 0.6881335973739624\n"
     ]
    }
   ],
   "source": [
    "# evaluate model on Test Set\n",
    "test_loss, test_acc = model_regulrized.evaluate(X_test, y_test, verbose=2)\n",
    "print('\\nTest accuracy:', test_acc)"
   ]
  },
  {
   "cell_type": "code",
   "execution_count": 55,
   "metadata": {
    "scrolled": false
   },
   "outputs": [
    {
     "data": {
      "image/png": "[encoded data removed]",
      "text/plain": [
       "<Figure size 432x288 with 2 Axes>"
      ]
     },
     "metadata": {
      "needs_background": "light"
     },
     "output_type": "display_data"
    }
   ],
   "source": [
    "plot_history(history)"
   ]
  },
  {
   "cell_type": "code",
   "execution_count": 56,
   "metadata": {},
   "outputs": [],
   "source": [
    "# pick a sample to predict from the test set\n",
    "X_to_predict = X_test[420]\n",
    "y_to_predict = y_test[420]"
   ]
  },
  {
   "cell_type": "code",
   "execution_count": 57,
   "metadata": {},
   "outputs": [
    {
     "data": {
      "text/plain": [
       "(130, 13, 1)"
      ]
     },
     "execution_count": 57,
     "metadata": {},
     "output_type": "execute_result"
    }
   ],
   "source": [
    "X_to_predict.shape"
   ]
  },
  {
   "cell_type": "code",
   "execution_count": 58,
   "metadata": {},
   "outputs": [
    {
     "name": "stdout",
     "output_type": "stream",
     "text": [
      "Real Instrument: 0\n"
     ]
    }
   ],
   "source": [
    "print(\"Real Instrument:\", y_to_predict)"
   ]
  },
  {
   "cell_type": "code",
   "execution_count": 59,
   "metadata": {},
   "outputs": [],
   "source": [
    "X_to_predict = X_to_predict[np.newaxis, ...] # array shape (1, 130, 13, 1)"
   ]
  },
  {
   "cell_type": "code",
   "execution_count": 60,
   "metadata": {},
   "outputs": [
    {
     "data": {
      "text/plain": [
       "(1, 130, 13, 1)"
      ]
     },
     "execution_count": 60,
     "metadata": {},
     "output_type": "execute_result"
    }
   ],
   "source": [
    "X_to_predict.shape"
   ]
  },
  {
   "cell_type": "code",
   "execution_count": 61,
   "metadata": {},
   "outputs": [],
   "source": [
    "#perform prediction\n",
    "prediction = model_regulrized.predict(X_to_predict)"
   ]
  },
  {
   "cell_type": "code",
   "execution_count": 62,
   "metadata": {},
   "outputs": [
    {
     "name": "stdout",
     "output_type": "stream",
     "text": [
      "Predicted Instrument: 0\n"
     ]
    }
   ],
   "source": [
    "# get index with max value\n",
    "predicted_index = np.argmax(prediction, axis=1)\n",
    "\n",
    "print(\"Predicted Instrument:\", int(predicted_index))"
   ]
  },
  {
   "cell_type": "code",
   "execution_count": 63,
   "metadata": {},
   "outputs": [
    {
     "name": "stdout",
     "output_type": "stream",
     "text": [
      "Real Instrument: 7\n",
      "Predicted Instrument: 7\n"
     ]
    }
   ],
   "source": [
    "# pick a sample to predict from the test set\n",
    "X_to_predict = X_test[25]\n",
    "y_to_predict = y_test[25]\n",
    "\n",
    "print(\"Real Instrument:\", y_to_predict)\n",
    "\n",
    "X_to_predict = X_to_predict[np.newaxis, ...]\n",
    "\n",
    "prediction = model_cnn.predict(X_to_predict)\n",
    "\n",
    "# get index with max value\n",
    "predicted_index = np.argmax(prediction, axis=1)\n",
    "\n",
    "print(\"Predicted Instrument:\", int(predicted_index))"
   ]
  },
  {
   "cell_type": "code",
   "execution_count": 64,
   "metadata": {},
   "outputs": [
    {
     "data": {
      "text/plain": [
       "1677"
      ]
     },
     "execution_count": 64,
     "metadata": {},
     "output_type": "execute_result"
    }
   ],
   "source": [
    "len(X_test)"
   ]
  },
  {
   "cell_type": "code",
   "execution_count": 91,
   "metadata": {},
   "outputs": [
    {
     "name": "stdout",
     "output_type": "stream",
     "text": [
      "\n",
      "Real Instrument: 4\n",
      "Predicted Instrument: 4\n",
      "\n",
      "Real Instrument: 1\n",
      "Predicted Instrument: 1\n",
      "\n",
      "Real Instrument: 4\n",
      "Predicted Instrument: 4\n",
      "\n",
      "Real Instrument: 2\n",
      "Predicted Instrument: 2\n",
      "\n",
      "Real Instrument: 0\n",
      "Predicted Instrument: 4\n",
      "\n",
      "Real Instrument: 8\n",
      "Predicted Instrument: 7\n",
      "\n",
      "Real Instrument: 8\n",
      "Predicted Instrument: 8\n",
      "\n",
      "Real Instrument: 3\n",
      "Predicted Instrument: 3\n",
      "\n",
      "Real Instrument: 6\n",
      "Predicted Instrument: 6\n",
      "\n",
      "Real Instrument: 5\n",
      "Predicted Instrument: 5\n"
     ]
    }
   ],
   "source": [
    "for n in range(10):\n",
    "    \n",
    "    \n",
    "    i=random.randint(0,len(X_test))\n",
    "    # pick a sample to predict from the test set\n",
    "    X_to_predict = X_test[i]\n",
    "    y_to_predict = y_test[i]\n",
    "\n",
    "    print(\"\\nReal Instrument:\", y_to_predict)\n",
    "\n",
    "    X_to_predict = X_to_predict[np.newaxis, ...]\n",
    "\n",
    "    prediction = model_cnn.predict(X_to_predict)\n",
    "\n",
    "    # get index with max value\n",
    "    predicted_index = np.argmax(prediction, axis=1)\n",
    "\n",
    "    print(\"Predicted Instrument:\", int(predicted_index))"
   ]
  },
  {
   "cell_type": "markdown",
   "metadata": {},
   "source": [
    "# Prediction on new songs"
   ]
  },
  {
   "cell_type": "code",
   "execution_count": 68,
   "metadata": {},
   "outputs": [],
   "source": [
    "# Audio files pre-processing\n",
    "def process_input(audio_file, track_duration):\n",
    "    \n",
    "    SAMPLE_RATE = 22050\n",
    "    NUM_MFCC = 13\n",
    "    N_FTT=2048\n",
    "    HOP_LENGTH=512\n",
    "    TRACK_DURATION = track_duration # measured in seconds\n",
    "    SAMPLES_PER_TRACK = SAMPLE_RATE * TRACK_DURATION\n",
    "    NUM_SEGMENTS = 10\n",
    "\n",
    "    samples_per_segment = int(SAMPLES_PER_TRACK / NUM_SEGMENTS)\n",
    "    num_mfcc_vectors_per_segment = math.ceil(samples_per_segment / HOP_LENGTH)\n",
    "\n",
    "    signal, sample_rate = librosa.load(audio_file, sr=SAMPLE_RATE)\n",
    "  \n",
    "    for d in range(10):\n",
    "        \n",
    "        # calculate start and finish sample for current segment\n",
    "        start = samples_per_segment * d\n",
    "        finish = start + samples_per_segment\n",
    "\n",
    "        # extract mfcc\n",
    "        mfcc = librosa.feature.mfcc(signal[start:finish], sample_rate, n_mfcc=NUM_MFCC, n_fft=N_FTT, hop_length=HOP_LENGTH)\n",
    "        mfcc = mfcc.T\n",
    "\n",
    "        return mfcc"
   ]
  },
  {
   "cell_type": "code",
   "execution_count": 69,
   "metadata": {},
   "outputs": [],
   "source": [
    "instrument_dict = {0:\"cello\",1:\"cla\",2:\"flu\",3:\"gac\",4:\"gel\",5:\"org\",6:\"pia\",7:\"sax\",8:\"tru\",9:\"vio\",10:\"voi\"}"
   ]
  },
  {
   "cell_type": "code",
   "execution_count": 78,
   "metadata": {},
   "outputs": [],
   "source": [
    "new_input_mfcc = process_input(\"(02) dont kill the whale-1.wav\", 30)"
   ]
  },
  {
   "cell_type": "code",
   "execution_count": 79,
   "metadata": {},
   "outputs": [
    {
     "data": {
      "text/plain": [
       "numpy.ndarray"
      ]
     },
     "execution_count": 79,
     "metadata": {},
     "output_type": "execute_result"
    }
   ],
   "source": [
    "type(new_input_mfcc)"
   ]
  },
  {
   "cell_type": "code",
   "execution_count": 80,
   "metadata": {},
   "outputs": [
    {
     "data": {
      "text/plain": [
       "(130, 13)"
      ]
     },
     "execution_count": 80,
     "metadata": {},
     "output_type": "execute_result"
    }
   ],
   "source": [
    "new_input_mfcc.shape"
   ]
  },
  {
   "cell_type": "code",
   "execution_count": 81,
   "metadata": {},
   "outputs": [
    {
     "data": {
      "text/plain": [
       "(1, 130, 13, 1)"
      ]
     },
     "execution_count": 81,
     "metadata": {},
     "output_type": "execute_result"
    }
   ],
   "source": [
    "X_to_predict = new_input_mfcc[np.newaxis, ..., np.newaxis]\n",
    "X_to_predict.shape"
   ]
  },
  {
   "cell_type": "code",
   "execution_count": 83,
   "metadata": {},
   "outputs": [
    {
     "name": "stdout",
     "output_type": "stream",
     "text": [
      "Predicted Instrument: gel\n"
     ]
    }
   ],
   "source": [
    "prediction = model_cnn.predict(X_to_predict)\n",
    "\n",
    "# get index with max value\n",
    "predicted_index = np.argmax(prediction, axis=1)\n",
    "\n",
    "print(\"Predicted Instrument:\", instrument_dict[int(predicted_index)])"
   ]
  },
  {
   "cell_type": "code",
   "execution_count": 84,
   "metadata": {},
   "outputs": [],
   "source": [
    "new_input_mfcc = process_input(\"(02) dont kill the whale-6.wav\", 30)"
   ]
  },
  {
   "cell_type": "code",
   "execution_count": 85,
   "metadata": {},
   "outputs": [
    {
     "data": {
      "text/plain": [
       "(1, 130, 13, 1)"
      ]
     },
     "execution_count": 85,
     "metadata": {},
     "output_type": "execute_result"
    }
   ],
   "source": [
    "X_to_predict = new_input_mfcc[np.newaxis, ..., np.newaxis]\n",
    "X_to_predict.shape"
   ]
  },
  {
   "cell_type": "code",
   "execution_count": 89,
   "metadata": {},
   "outputs": [
    {
     "name": "stdout",
     "output_type": "stream",
     "text": [
      "Predicted Instrument: org\n"
     ]
    }
   ],
   "source": [
    "prediction = model_cnn.predict(X_to_predict)\n",
    "\n",
    "# get index with max value\n",
    "predicted_index = np.argmax(prediction, axis=1)\n",
    "\n",
    "print(\"Predicted Instrument:\", instrument_dict[int(predicted_index)])"
   ]
  },
  {
   "cell_type": "code",
   "execution_count": null,
   "metadata": {},
   "outputs": [],
   "source": []
  }
 ],
 "metadata": {
  "kernelspec": {
   "display_name": "Python 3",
   "language": "python",
   "name": "python3"
  },
  "language_info": {
   "codemirror_mode": {
    "name": "ipython",
    "version": 3
   },
   "file_extension": ".py",
   "mimetype": "text/x-python",
   "name": "python",
   "nbconvert_exporter": "python",
   "pygments_lexer": "ipython3",
   "version": "3.8.5"
  }
 },
 "nbformat": 4,
 "nbformat_minor": 4
}
